{
  "cells": [
    {
      "cell_type": "code",
      "execution_count": null,
      "metadata": {
        "id": "1dM3hqFpIRAr"
      },
      "outputs": [],
      "source": [
        "import pandas as pd\n",
        "import numpy as np\n",
        "from scipy.stats import shapiro\n",
        "import seaborn as sns\n",
        "import matplotlib.pyplot as plt\n",
        "import plotly.express as px\n",
        "from sklearn.preprocessing import MinMaxScaler\n",
        "from sklearn.preprocessing import StandardScaler\n",
        "import warnings\n",
        "warnings.filterwarnings('ignore')\n",
        "%matplotlib inline"
      ]
    },
    {
      "cell_type": "markdown",
      "metadata": {
        "id": "PvpZ_lFLqh37"
      },
      "source": [
        "# Data uploading"
      ]
    },
    {
      "cell_type": "code",
      "execution_count": null,
      "metadata": {
        "id": "cDFd319igRA-"
      },
      "outputs": [],
      "source": [
        "df = pd.read_csv('data.csv')"
      ]
    },
    {
      "cell_type": "code",
      "execution_count": null,
      "metadata": {
        "colab": {
          "base_uri": "https://localhost:8080/"
        },
        "id": "s5I_FpGcjXry",
        "outputId": "dabd3405-e125-4569-b564-4f713a3d2a5d"
      },
      "outputs": [],
      "source": [
        "df.info()"
      ]
    },
    {
      "cell_type": "code",
      "execution_count": null,
      "metadata": {
        "colab": {
          "base_uri": "https://localhost:8080/"
        },
        "id": "7yNkdh7-iGwe",
        "outputId": "c03c8612-07d3-4ede-bee8-29d2259ed10f"
      },
      "outputs": [],
      "source": [
        "df.columns"
      ]
    },
    {
      "cell_type": "code",
      "execution_count": null,
      "metadata": {
        "colab": {
          "base_uri": "https://localhost:8080/"
        },
        "id": "nk2YmxOzNRtx",
        "outputId": "68ced1e1-c6f5-4f87-f214-e92da689d315"
      },
      "outputs": [],
      "source": [
        "df.shape"
      ]
    },
    {
      "cell_type": "code",
      "execution_count": null,
      "metadata": {
        "colab": {
          "base_uri": "https://localhost:8080/",
          "height": 206
        },
        "id": "rzPY77KT8dx1",
        "outputId": "d5a79258-345a-4107-d990-fd5773b3453a"
      },
      "outputs": [],
      "source": [
        "df.head()"
      ]
    },
    {
      "cell_type": "code",
      "execution_count": null,
      "metadata": {
        "colab": {
          "base_uri": "https://localhost:8080/"
        },
        "id": "KTeIEYoHOIAW",
        "outputId": "185c12b2-5cde-441f-9be5-ad98b77e5384"
      },
      "outputs": [],
      "source": [
        "df.isnull().sum()"
      ]
    },
    {
      "cell_type": "code",
      "execution_count": null,
      "metadata": {
        "id": "b9F2v5dkh_rG"
      },
      "outputs": [],
      "source": [
        "df.rename(columns={'Time, seconds':'Time','Series values, dB':'dB'},inplace=True)"
      ]
    },
    {
      "cell_type": "code",
      "execution_count": null,
      "metadata": {
        "colab": {
          "base_uri": "https://localhost:8080/",
          "height": 282
        },
        "id": "_NyWw35kQ8lJ",
        "outputId": "de9e0b6e-5b25-4639-86e4-891e48437713"
      },
      "outputs": [],
      "source": [
        "plt.plot(df['Time'], df['dB'])"
      ]
    },
    {
      "cell_type": "code",
      "execution_count": null,
      "metadata": {
        "colab": {
          "base_uri": "https://localhost:8080/",
          "height": 386
        },
        "id": "BBIRFhy5RJfx",
        "outputId": "96d9d05c-5d63-482f-e9cd-62f6ed7ef35f"
      },
      "outputs": [],
      "source": [
        "sns.displot(df['dB'])"
      ]
    },
    {
      "cell_type": "code",
      "execution_count": null,
      "metadata": {
        "colab": {
          "base_uri": "https://localhost:8080/"
        },
        "id": "QhFeegJLrK91",
        "outputId": "e8afe413-d5a6-4ad2-8315-ebf76b0ef53a"
      },
      "outputs": [],
      "source": [
        "df['dB'].mean()"
      ]
    },
    {
      "cell_type": "code",
      "execution_count": null,
      "metadata": {
        "colab": {
          "base_uri": "https://localhost:8080/"
        },
        "id": "2Vd97i7GrPFO",
        "outputId": "31c8204c-a264-4e6d-9963-09b169c9ba1f"
      },
      "outputs": [],
      "source": [
        "df['dB'].median()"
      ]
    },
    {
      "cell_type": "code",
      "execution_count": null,
      "metadata": {
        "colab": {
          "base_uri": "https://localhost:8080/"
        },
        "id": "ziTQbXlXrYdQ",
        "outputId": "5e6428eb-f5fd-452d-ff99-9c85382bf93e"
      },
      "outputs": [],
      "source": [
        "df['dB'].std()"
      ]
    },
    {
      "cell_type": "code",
      "execution_count": null,
      "metadata": {
        "colab": {
          "base_uri": "https://localhost:8080/"
        },
        "id": "pGmLHhfsjbrz",
        "outputId": "9be94c85-e3f2-4dc6-d13a-158b7b6bb879"
      },
      "outputs": [],
      "source": [
        "df['dB'].skew()"
      ]
    },
    {
      "cell_type": "code",
      "execution_count": null,
      "metadata": {
        "colab": {
          "base_uri": "https://localhost:8080/"
        },
        "id": "gDYBj-efeoSy",
        "outputId": "e6d1d5a1-7359-4677-dc9b-9fb7adde0ed6"
      },
      "outputs": [],
      "source": [
        "df['dB'].kurtosis()"
      ]
    },
    {
      "cell_type": "markdown",
      "metadata": {
        "id": "Vqv-ySj_qeeE"
      },
      "source": [
        "# Checking Normality"
      ]
    },
    {
      "cell_type": "markdown",
      "metadata": {
        "id": "ixNk6-aLrevC"
      },
      "source": [
        "## Q-Q plot"
      ]
    },
    {
      "cell_type": "code",
      "execution_count": null,
      "metadata": {
        "colab": {
          "base_uri": "https://localhost:8080/",
          "height": 295
        },
        "id": "wmWQpqGKqeHE",
        "outputId": "4fa8ef46-e244-44ba-b32b-478a062bdd5d"
      },
      "outputs": [],
      "source": [
        "import scipy as sp\n",
        "\n",
        "f,ax = plt.subplots()\n",
        "_,(_,_,r)= sp.stats.probplot(df['dB'],plot=ax)\n",
        "ax.set_title('Q-Q Plot')\n",
        "plt.show()"
      ]
    },
    {
      "cell_type": "markdown",
      "metadata": {
        "id": "QSN8p9HIrhYR"
      },
      "source": [
        "## Statistical tests, Shapiro-Wilk and Ktest"
      ]
    },
    {
      "cell_type": "code",
      "execution_count": null,
      "metadata": {
        "colab": {
          "base_uri": "https://localhost:8080/"
        },
        "id": "xYMSzObVqeDs",
        "outputId": "a726c1c2-2f45-4853-da0b-c54c90dfff26"
      },
      "outputs": [],
      "source": [
        "from scipy.stats import kstest, norm\n",
        "ks_statistic, p_value = kstest(df['dB'], 'norm')\n",
        "print(ks_statistic, p_value)"
      ]
    },
    {
      "cell_type": "code",
      "execution_count": null,
      "metadata": {
        "colab": {
          "base_uri": "https://localhost:8080/"
        },
        "id": "l18VXpEJqeAj",
        "outputId": "5eaecba9-07ff-40dd-d7ed-9e2ca54b0658"
      },
      "outputs": [],
      "source": [
        "from scipy.stats import shapiro\n",
        "shapiro(df['dB'])"
      ]
    },
    {
      "cell_type": "markdown",
      "metadata": {
        "id": "-IjeiDeYroWp"
      },
      "source": [
        "## Checking with Z score value"
      ]
    },
    {
      "cell_type": "code",
      "execution_count": null,
      "metadata": {
        "colab": {
          "base_uri": "https://localhost:8080/",
          "height": 282
        },
        "id": "8KMfJLlxqd9Y",
        "outputId": "3b0b72de-c45d-401a-cf63-bf6180031db0"
      },
      "outputs": [],
      "source": [
        "mean = df['dB'].mean()\n",
        "std = df['dB'].std()\n",
        "\n",
        "upper_bound= mean + 3*std\n",
        "lower_bound= mean - 3*std\n",
        "\n",
        "plt.plot('Time','dB',data=df)\n",
        "plt.axhline(lower_bound,color='r')\n",
        "plt.axhline(upper_bound,color='r')"
      ]
    },
    {
      "cell_type": "code",
      "execution_count": null,
      "metadata": {
        "colab": {
          "base_uri": "https://localhost:8080/",
          "height": 282
        },
        "id": "Tsf4Q95Tqd6N",
        "outputId": "38579949-1623-48ea-f5a1-5a64bf550540"
      },
      "outputs": [],
      "source": [
        "low = np.percentile(df['dB'],0.3)\n",
        "up = np.percentile(df['dB'],99.7)\n",
        "plt.plot('Time','dB',data=df)\n",
        "plt.axhline(low,color='r')\n",
        "plt.axhline(up,color='r')"
      ]
    },
    {
      "cell_type": "markdown",
      "metadata": {
        "id": "1o6lXtfmsRIZ"
      },
      "source": [
        "In normal distribution, \"mean + 3*std\" should be equal to the 99.7th percentile value, but graphs does not match. It means data is not normal distributed."
      ]
    },
    {
      "cell_type": "markdown",
      "metadata": {
        "id": "K8yjJZ0zsvtP"
      },
      "source": [
        "# Anomaly detection with statistical threshold"
      ]
    },
    {
      "cell_type": "code",
      "execution_count": null,
      "metadata": {
        "colab": {
          "base_uri": "https://localhost:8080/",
          "height": 282
        },
        "id": "WmNHHal2svMl",
        "outputId": "91bd2b28-f95c-444a-ebd3-31bc644bba66"
      },
      "outputs": [],
      "source": [
        "low = np.percentile(df['dB'],0.2)\n",
        "upper = np.percentile(df['dB'],99.7)\n",
        "\n",
        "plt.plot('Time','dB',data=df)\n",
        "plt.axhline(low,color='r')\n",
        "plt.axhline(upper,color='r')"
      ]
    },
    {
      "cell_type": "code",
      "execution_count": null,
      "metadata": {
        "id": "SaLsHRKrtY6x"
      },
      "outputs": [],
      "source": [
        "q1, q3 = np.percentile(df['dB'],[25,75])\n",
        "IQR = q3-q1\n",
        "low = q1 - IQR*1.5\n",
        "up = q3 + 1.5*IQR"
      ]
    },
    {
      "cell_type": "code",
      "execution_count": null,
      "metadata": {
        "colab": {
          "base_uri": "https://localhost:8080/",
          "height": 282
        },
        "id": "ABZcruuptY3u",
        "outputId": "181f04b3-bbfe-4b78-9d1e-a5ec60fcd2b2"
      },
      "outputs": [],
      "source": [
        "plt.plot('Time','dB',data=df)\n",
        "plt.axhline(low,color='r')\n",
        "plt.axhline(up,color='r')"
      ]
    },
    {
      "cell_type": "markdown",
      "metadata": {
        "id": "seZRN17ttftX"
      },
      "source": [
        "IQR method gives lower threshold for anomalies. Thus, i will apply moving average to denoise data."
      ]
    },
    {
      "cell_type": "code",
      "execution_count": null,
      "metadata": {
        "id": "wPglloovtYzE"
      },
      "outputs": [],
      "source": [
        "data = df.copy()\n",
        "ma = 10\n",
        "data['dB'] = data['dB'].rolling(ma).mean()\n",
        "data = data.loc[ma:,:]\n",
        "q1, q3 = np.percentile(data['dB'],[25,75])\n",
        "IQR = q3-q1\n",
        "low = q1 - IQR*1.5\n",
        "up = q3 + 1.5*IQR"
      ]
    },
    {
      "cell_type": "code",
      "execution_count": null,
      "metadata": {
        "colab": {
          "base_uri": "https://localhost:8080/",
          "height": 282
        },
        "id": "wZSR8VEPt2-L",
        "outputId": "519bb8c7-78d2-40d9-c5f6-931e9f1a9d43"
      },
      "outputs": [],
      "source": [
        "plt.plot('Time','dB',data=data)\n",
        "plt.axhline(low,color='r')\n",
        "plt.axhline(up,color='r')"
      ]
    },
    {
      "cell_type": "markdown",
      "metadata": {
        "id": "dz-CBpPgukRL"
      },
      "source": [
        "# Isolation Forest"
      ]
    },
    {
      "cell_type": "code",
      "execution_count": null,
      "metadata": {
        "id": "DKROx1Z1WOFY"
      },
      "outputs": [],
      "source": [
        "from sklearn.ensemble import IsolationForest\n",
        "from sklearn.preprocessing import StandardScaler"
      ]
    },
    {
      "cell_type": "code",
      "execution_count": null,
      "metadata": {
        "colab": {
          "base_uri": "https://localhost:8080/"
        },
        "id": "nBnUCn1vC832",
        "outputId": "2b99e6eb-a344-4c25-b450-0fb72d79186f"
      },
      "outputs": [],
      "source": [
        "# Extract the feature matrix from the DataFrame\n",
        "standard_scaler = StandardScaler()\n",
        "np_scaled = standard_scaler.fit_transform(df[['dB']])\n",
        "X = pd.DataFrame(np_scaled)\n",
        "# Initialize the Isolation Forest model with some hyperparameters\n",
        "model = IsolationForest(n_estimators=100, max_samples='auto', contamination=0.01, random_state=42)\n",
        "\n",
        "# Fit the model to the data\n",
        "model.fit(X)\n",
        "\n",
        "# Use the model to predict which data points are anomalies\n",
        "df['anomaly25'] = pd.Series(model.predict(X))\n",
        "df['anomaly25'] = df['anomaly25'].map( {1: 0, -1: 1} )\n",
        "print(df['anomaly25'].value_counts())"
      ]
    },
    {
      "cell_type": "code",
      "execution_count": null,
      "metadata": {
        "colab": {
          "base_uri": "https://localhost:8080/"
        },
        "id": "QX2S2zROC8sJ",
        "outputId": "73e10eb0-a317-4c89-8b85-0a95674357cf"
      },
      "outputs": [],
      "source": [
        "fig, ax = plt.subplots()\n",
        "\n",
        "a = df.loc[df['anomaly25'] == 1, ['Time', 'dB']] #anomaly\n",
        "\n",
        "ax.plot(df['Time'], df['dB'], color='blue')\n",
        "ax.scatter(a['Time'],a['dB'], color='red')\n",
        "plt.show()"
      ]
    },
    {
      "cell_type": "code",
      "execution_count": null,
      "metadata": {
        "id": "54Jusk9rvbZY"
      },
      "outputs": [],
      "source": [
        "data = df.copy()\n",
        "ma = 10\n",
        "data['dB'] = data['dB'].rolling(ma).mean()\n",
        "data = data.loc[ma:,:]"
      ]
    },
    {
      "cell_type": "code",
      "execution_count": null,
      "metadata": {
        "colab": {
          "base_uri": "https://localhost:8080/"
        },
        "id": "f07g2LoWNQE0",
        "outputId": "7258c84e-82ae-47ec-c959-d7fad97378e4"
      },
      "outputs": [],
      "source": [
        "# min_max_scaler = MinMaxScaler()\n",
        "# np_scaled = min_max_scaler.fit_transform(data[['dB']])\n",
        "# X = pd.DataFrame(np_scaled)\n",
        "# Initialize the Isolation Forest model with some hyperparameters\n",
        "model = IsolationForest(n_estimators=100, max_samples='auto', contamination=0.011, random_state=42)\n",
        "\n",
        "# Fit the model to the data\n",
        "model.fit(data[['dB']])\n",
        "\n",
        "# Use the model to predict which data points are anomalies\n",
        "data['anomaly25'] = pd.Series(model.predict(data[['dB']]))\n",
        "data['anomaly25'] = data['anomaly25'].map( {1: 0, -1: 1} )\n",
        "print(data['anomaly25'].value_counts())"
      ]
    },
    {
      "cell_type": "code",
      "execution_count": null,
      "metadata": {
        "colab": {
          "base_uri": "https://localhost:8080/",
          "height": 265
        },
        "id": "vjJHWP0zC8pH",
        "outputId": "eee8fc48-c6de-413c-9913-719aa15a8e6a"
      },
      "outputs": [],
      "source": [
        "fig, ax = plt.subplots()\n",
        "\n",
        "a = data.loc[data['anomaly25'] == 1, ['Time', 'dB']] #anomaly\n",
        "\n",
        "ax.plot(data['Time'], data['dB'], color='blue')\n",
        "ax.scatter(a['Time'],a['dB'], color='red')\n",
        "plt.show()"
      ]
    },
    {
      "cell_type": "code",
      "execution_count": null,
      "metadata": {
        "colab": {
          "base_uri": "https://localhost:8080/",
          "height": 265
        },
        "id": "yw44WWiNWiIY",
        "outputId": "6e28c7ee-7afb-46d9-8a06-d62c476df633"
      },
      "outputs": [],
      "source": [
        "fig, ax = plt.subplots()\n",
        "\n",
        "a = data.loc[data['anomaly25'] == 1, ['Time', 'dB']] #anomaly\n",
        "\n",
        "ax.plot(data['Time'], data['dB'], color='blue')\n",
        "ax.scatter(a['Time'],a['dB'], color='red')\n",
        "plt.show()"
      ]
    },
    {
      "cell_type": "markdown",
      "metadata": {
        "id": "QKbXvcJtZH7u"
      },
      "source": [
        "# Autoencoder"
      ]
    },
    {
      "cell_type": "code",
      "execution_count": null,
      "metadata": {
        "id": "G_3VZ-tna8n1"
      },
      "outputs": [],
      "source": [
        "df1 = df.copy()"
      ]
    },
    {
      "cell_type": "code",
      "execution_count": null,
      "metadata": {
        "id": "JEKiqBOCJv9p"
      },
      "outputs": [],
      "source": [
        "df1 = df1[df1['Time']<10]"
      ]
    },
    {
      "cell_type": "code",
      "execution_count": null,
      "metadata": {
        "colab": {
          "base_uri": "https://localhost:8080/",
          "height": 282
        },
        "id": "d00PfE1mZ-so",
        "outputId": "5baf93fe-9749-4165-b604-30075b4e4484"
      },
      "outputs": [],
      "source": [
        "plt.plot(df1['Time'],df1['dB'])"
      ]
    },
    {
      "cell_type": "code",
      "execution_count": null,
      "metadata": {
        "colab": {
          "base_uri": "https://localhost:8080/",
          "height": 1000
        },
        "id": "_2STl_26e3BB",
        "outputId": "5c82333e-7223-4290-f042-c90d0fbd032a"
      },
      "outputs": [],
      "source": [
        "from keras.models import Sequential\n",
        "from keras.layers import LSTM, Input, Dropout\n",
        "from keras.layers import Dense\n",
        "from keras.layers import RepeatVector\n",
        "from keras.layers import TimeDistributed\n",
        "from matplotlib import pyplot as plt\n",
        "from keras.models import Model\n",
        "\n",
        "#Change train data for 5 seconds\n",
        "train, test = df.loc[df['Time'] <= 10], df.loc[df['Time'] > 10]\n",
        "\n",
        "scaler = StandardScaler()\n",
        "scaler = scaler.fit(train[['dB']])\n",
        "\n",
        "train['dB'] = scaler.transform(train[['dB']])\n",
        "test['dB'] = scaler.transform(test[['dB']])\n",
        "\n",
        "\n",
        "seq_size = 10  # Number of time steps to look back \n",
        "#Larger sequences (look further back) may improve forecasting.\n",
        "\n",
        "\n",
        "def to_sequences(x, y, seq_size=1):\n",
        "    x_values = []\n",
        "    y_values = []\n",
        "\n",
        "    for i in range(len(x)-seq_size):\n",
        "        #print(i)\n",
        "        x_values.append(x.iloc[i:(i+seq_size)].values)\n",
        "        y_values.append(y.iloc[i+seq_size])\n",
        "        \n",
        "    return np.array(x_values), np.array(y_values)\n",
        "\n",
        "trainX, trainY = to_sequences(train[['dB']], train['dB'], seq_size)\n",
        "testX, testY = to_sequences(test[['dB']], test['dB'], seq_size)\n",
        "\n",
        "\n",
        "# define Autoencoder model\n",
        "#Input shape would be seq_size, 1 - 1 beacuse we have 1 feature. \n",
        "seq_size = trainX.shape[1]\n",
        "\n",
        "model = Sequential()\n",
        "model.add(LSTM(128, activation='relu', input_shape=(trainX.shape[1], trainX.shape[2]), return_sequences=True))\n",
        "model.add(LSTM(64, activation='relu', return_sequences=False))\n",
        "model.add(RepeatVector(trainX.shape[1]))\n",
        "model.add(LSTM(64, activation='relu', return_sequences=True))\n",
        "model.add(LSTM(128, activation='relu', return_sequences=True))\n",
        "model.add(TimeDistributed(Dense(trainX.shape[2])))\n",
        "\n",
        "model.compile(optimizer='adam', loss='mse')\n",
        "model.summary()\n",
        "\n",
        "#Try another model\n",
        "# model = Sequential()\n",
        "# model.add(LSTM(128, input_shape=(trainX.shape[1], trainX.shape[2])))\n",
        "# model.add(Dropout(rate=0.2))\n",
        "\n",
        "# model.add(RepeatVector(trainX.shape[1]))\n",
        "\n",
        "# model.add(LSTM(128, return_sequences=True))\n",
        "# model.add(Dropout(rate=0.2))\n",
        "# model.add(TimeDistributed(Dense(trainX.shape[2])))\n",
        "# model.compile(optimizer='adam', loss='mae')\n",
        "# model.summary()\n",
        "\n",
        "# fit model\n",
        "history = model.fit(trainX, trainY, epochs=10, batch_size=32, validation_split=0.1, verbose=1)\n",
        "\n",
        "plt.plot(history.history['loss'], label='Training loss')\n",
        "plt.plot(history.history['val_loss'], label='Validation loss')\n",
        "plt.legend()\n",
        "\n",
        "model.evaluate(testX, testY)\n"
      ]
    },
    {
      "cell_type": "code",
      "execution_count": null,
      "metadata": {
        "colab": {
          "base_uri": "https://localhost:8080/",
          "height": 525
        },
        "id": "3CCkbk4vjQw2",
        "outputId": "58d340aa-235d-4a97-fbf5-5f4501d697a5"
      },
      "outputs": [],
      "source": [
        "#Anomaly is where reconstruction error is large.\n",
        "#We can define this value beyond which we call anomaly.\n",
        "#Let us look at MAE in training prediction\n",
        "\n",
        "trainPredict = model.predict(trainX)\n",
        "trainMAE = np.mean(np.abs(trainPredict - trainX), axis=1)\n",
        "plt.hist(trainMAE, bins=30)"
      ]
    },
    {
      "cell_type": "code",
      "execution_count": null,
      "metadata": {
        "colab": {
          "base_uri": "https://localhost:8080/",
          "height": 525
        },
        "id": "5kb4fu9J38pu",
        "outputId": "a288d205-3f46-4451-f478-f13c961a3d5f"
      },
      "outputs": [],
      "source": [
        "max_trainMAE = 3\n",
        "testPredict = model.predict(testX)\n",
        "testMAE = np.mean(np.abs(testPredict - testX), axis=1)\n",
        "plt.hist(testMAE, bins=30)"
      ]
    },
    {
      "cell_type": "code",
      "execution_count": null,
      "metadata": {
        "colab": {
          "base_uri": "https://localhost:8080/",
          "height": 279
        },
        "id": "ncgngDD8uKiX",
        "outputId": "5a3248f8-17f2-426b-a2a8-c03b875e5405"
      },
      "outputs": [],
      "source": [
        "#Capture all details in a DataFrame for easy plotting\n",
        "anomaly_df = pd.DataFrame(test[seq_size:])\n",
        "anomaly_df['testMAE'] = testMAE\n",
        "anomaly_df['max_trainMAE'] = max_trainMAE\n",
        "anomaly_df['anomaly'] = anomaly_df['testMAE'] > anomaly_df['max_trainMAE']\n",
        "anomaly_df['dB'] = test[seq_size:]['dB']\n",
        "\n",
        "#Plot testMAE vs max_trainMAE\n",
        "sns.lineplot(x=anomaly_df['Time'], y=anomaly_df['testMAE'])\n",
        "sns.lineplot(x=anomaly_df['Time'], y=anomaly_df['max_trainMAE'])\n",
        "\n",
        "anomalies = anomaly_df.loc[anomaly_df['anomaly'] == True]"
      ]
    },
    {
      "cell_type": "code",
      "execution_count": null,
      "metadata": {
        "colab": {
          "base_uri": "https://localhost:8080/",
          "height": 282
        },
        "id": "ZGLzqjA5ymhk",
        "outputId": "62878ecc-ef39-4138-bffc-d2d03cd52849"
      },
      "outputs": [],
      "source": [
        "#Plot anomalies\n",
        "plt.plot(anomaly_df['Time'], scaler.inverse_transform(anomaly_df[['dB']]))\n",
        "plt.scatter(x=anomalies['Time'], y=scaler.inverse_transform(anomalies[['dB']]), color='r')"
      ]
    },
    {
      "cell_type": "code",
      "execution_count": null,
      "metadata": {
        "colab": {
          "base_uri": "https://localhost:8080/",
          "height": 206
        },
        "id": "ctPY8A304Ami",
        "outputId": "a19210e1-509a-454a-df8f-268967584318"
      },
      "outputs": [],
      "source": [
        "anomalies.head()"
      ]
    }
  ],
  "metadata": {
    "accelerator": "GPU",
    "colab": {
      "provenance": []
    },
    "gpuClass": "standard",
    "kernelspec": {
      "display_name": "Python 3",
      "name": "python3"
    },
    "language_info": {
      "name": "python",
      "version": "3.11.8"
    }
  },
  "nbformat": 4,
  "nbformat_minor": 0
}
